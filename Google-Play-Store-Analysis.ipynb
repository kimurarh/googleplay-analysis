{
 "cells": [
  {
   "cell_type": "markdown",
   "id": "regional-hygiene",
   "metadata": {},
   "source": [
    "# Google Play Store Exploratory Analysis"
   ]
  },
  {
   "cell_type": "markdown",
   "id": "native-shock",
   "metadata": {},
   "source": [
    "Dataset available on https://www.kaggle.com/lava18/google-play-store-apps"
   ]
  },
  {
   "cell_type": "code",
   "execution_count": 1,
   "id": "elder-death",
   "metadata": {},
   "outputs": [],
   "source": [
    "import pandas as pd\n",
    "import numpy as np\n",
    "import matplotlib\n",
    "import matplotlib.pyplot as plt\n",
    "import seaborn as sns\n",
    "import squarify\n",
    "\n",
    "sns.set_theme(style='darkgrid', palette='Set3')"
   ]
  },
  {
   "cell_type": "markdown",
   "id": "medieval-portuguese",
   "metadata": {},
   "source": [
    "# Loading and checking datasets"
   ]
  },
  {
   "cell_type": "code",
   "execution_count": 2,
   "id": "endangered-helen",
   "metadata": {},
   "outputs": [
    {
     "data": {
      "text/html": [
       "<div>\n",
       "<style scoped>\n",
       "    .dataframe tbody tr th:only-of-type {\n",
       "        vertical-align: middle;\n",
       "    }\n",
       "\n",
       "    .dataframe tbody tr th {\n",
       "        vertical-align: top;\n",
       "    }\n",
       "\n",
       "    .dataframe thead th {\n",
       "        text-align: right;\n",
       "    }\n",
       "</style>\n",
       "<table border=\"1\" class=\"dataframe\">\n",
       "  <thead>\n",
       "    <tr style=\"text-align: right;\">\n",
       "      <th></th>\n",
       "      <th>App</th>\n",
       "      <th>Category</th>\n",
       "      <th>Rating</th>\n",
       "      <th>Reviews</th>\n",
       "      <th>Size</th>\n",
       "      <th>Installs</th>\n",
       "      <th>Type</th>\n",
       "      <th>Price</th>\n",
       "      <th>Content Rating</th>\n",
       "      <th>Genres</th>\n",
       "      <th>Last Updated</th>\n",
       "      <th>Current Ver</th>\n",
       "      <th>Android Ver</th>\n",
       "    </tr>\n",
       "  </thead>\n",
       "  <tbody>\n",
       "    <tr>\n",
       "      <th>0</th>\n",
       "      <td>Photo Editor &amp; Candy Camera &amp; Grid &amp; ScrapBook</td>\n",
       "      <td>ART_AND_DESIGN</td>\n",
       "      <td>4.1</td>\n",
       "      <td>159</td>\n",
       "      <td>19M</td>\n",
       "      <td>10,000+</td>\n",
       "      <td>Free</td>\n",
       "      <td>0</td>\n",
       "      <td>Everyone</td>\n",
       "      <td>Art &amp; Design</td>\n",
       "      <td>January 7, 2018</td>\n",
       "      <td>1.0.0</td>\n",
       "      <td>4.0.3 and up</td>\n",
       "    </tr>\n",
       "    <tr>\n",
       "      <th>1</th>\n",
       "      <td>Coloring book moana</td>\n",
       "      <td>ART_AND_DESIGN</td>\n",
       "      <td>3.9</td>\n",
       "      <td>967</td>\n",
       "      <td>14M</td>\n",
       "      <td>500,000+</td>\n",
       "      <td>Free</td>\n",
       "      <td>0</td>\n",
       "      <td>Everyone</td>\n",
       "      <td>Art &amp; Design;Pretend Play</td>\n",
       "      <td>January 15, 2018</td>\n",
       "      <td>2.0.0</td>\n",
       "      <td>4.0.3 and up</td>\n",
       "    </tr>\n",
       "    <tr>\n",
       "      <th>2</th>\n",
       "      <td>U Launcher Lite – FREE Live Cool Themes, Hide ...</td>\n",
       "      <td>ART_AND_DESIGN</td>\n",
       "      <td>4.7</td>\n",
       "      <td>87510</td>\n",
       "      <td>8.7M</td>\n",
       "      <td>5,000,000+</td>\n",
       "      <td>Free</td>\n",
       "      <td>0</td>\n",
       "      <td>Everyone</td>\n",
       "      <td>Art &amp; Design</td>\n",
       "      <td>August 1, 2018</td>\n",
       "      <td>1.2.4</td>\n",
       "      <td>4.0.3 and up</td>\n",
       "    </tr>\n",
       "  </tbody>\n",
       "</table>\n",
       "</div>"
      ],
      "text/plain": [
       "                                                 App        Category  Rating  \\\n",
       "0     Photo Editor & Candy Camera & Grid & ScrapBook  ART_AND_DESIGN     4.1   \n",
       "1                                Coloring book moana  ART_AND_DESIGN     3.9   \n",
       "2  U Launcher Lite – FREE Live Cool Themes, Hide ...  ART_AND_DESIGN     4.7   \n",
       "\n",
       "  Reviews  Size    Installs  Type Price Content Rating  \\\n",
       "0     159   19M     10,000+  Free     0       Everyone   \n",
       "1     967   14M    500,000+  Free     0       Everyone   \n",
       "2   87510  8.7M  5,000,000+  Free     0       Everyone   \n",
       "\n",
       "                      Genres      Last Updated Current Ver   Android Ver  \n",
       "0               Art & Design   January 7, 2018       1.0.0  4.0.3 and up  \n",
       "1  Art & Design;Pretend Play  January 15, 2018       2.0.0  4.0.3 and up  \n",
       "2               Art & Design    August 1, 2018       1.2.4  4.0.3 and up  "
      ]
     },
     "execution_count": 2,
     "metadata": {},
     "output_type": "execute_result"
    }
   ],
   "source": [
    "df_apps = pd.read_csv('datasets/googleplaystore.csv')\n",
    "df_apps.head(3)"
   ]
  },
  {
   "cell_type": "code",
   "execution_count": 3,
   "id": "northern-influence",
   "metadata": {},
   "outputs": [
    {
     "data": {
      "text/plain": [
       "(10841, 13)"
      ]
     },
     "execution_count": 3,
     "metadata": {},
     "output_type": "execute_result"
    }
   ],
   "source": [
    "df_apps.shape"
   ]
  },
  {
   "cell_type": "code",
   "execution_count": 4,
   "id": "nutritional-asbestos",
   "metadata": {},
   "outputs": [
    {
     "name": "stdout",
     "output_type": "stream",
     "text": [
      "<class 'pandas.core.frame.DataFrame'>\n",
      "RangeIndex: 10841 entries, 0 to 10840\n",
      "Data columns (total 13 columns):\n",
      " #   Column          Non-Null Count  Dtype  \n",
      "---  ------          --------------  -----  \n",
      " 0   App             10841 non-null  object \n",
      " 1   Category        10841 non-null  object \n",
      " 2   Rating          9367 non-null   float64\n",
      " 3   Reviews         10841 non-null  object \n",
      " 4   Size            10841 non-null  object \n",
      " 5   Installs        10841 non-null  object \n",
      " 6   Type            10840 non-null  object \n",
      " 7   Price           10841 non-null  object \n",
      " 8   Content Rating  10840 non-null  object \n",
      " 9   Genres          10841 non-null  object \n",
      " 10  Last Updated    10841 non-null  object \n",
      " 11  Current Ver     10833 non-null  object \n",
      " 12  Android Ver     10838 non-null  object \n",
      "dtypes: float64(1), object(12)\n",
      "memory usage: 1.1+ MB\n"
     ]
    }
   ],
   "source": [
    "df_apps.info()"
   ]
  },
  {
   "cell_type": "code",
   "execution_count": 5,
   "id": "recreational-caution",
   "metadata": {},
   "outputs": [
    {
     "data": {
      "text/plain": [
       "App                  0\n",
       "Category             0\n",
       "Rating            1474\n",
       "Reviews              0\n",
       "Size                 0\n",
       "Installs             0\n",
       "Type                 1\n",
       "Price                0\n",
       "Content Rating       1\n",
       "Genres               0\n",
       "Last Updated         0\n",
       "Current Ver          8\n",
       "Android Ver          3\n",
       "dtype: int64"
      ]
     },
     "execution_count": 5,
     "metadata": {},
     "output_type": "execute_result"
    }
   ],
   "source": [
    "df_apps.isna().sum()"
   ]
  },
  {
   "cell_type": "code",
   "execution_count": 6,
   "id": "dietary-princeton",
   "metadata": {},
   "outputs": [
    {
     "data": {
      "text/html": [
       "<div>\n",
       "<style scoped>\n",
       "    .dataframe tbody tr th:only-of-type {\n",
       "        vertical-align: middle;\n",
       "    }\n",
       "\n",
       "    .dataframe tbody tr th {\n",
       "        vertical-align: top;\n",
       "    }\n",
       "\n",
       "    .dataframe thead th {\n",
       "        text-align: right;\n",
       "    }\n",
       "</style>\n",
       "<table border=\"1\" class=\"dataframe\">\n",
       "  <thead>\n",
       "    <tr style=\"text-align: right;\">\n",
       "      <th></th>\n",
       "      <th>App</th>\n",
       "      <th>Translated_Review</th>\n",
       "      <th>Sentiment</th>\n",
       "      <th>Sentiment_Polarity</th>\n",
       "      <th>Sentiment_Subjectivity</th>\n",
       "    </tr>\n",
       "  </thead>\n",
       "  <tbody>\n",
       "    <tr>\n",
       "      <th>0</th>\n",
       "      <td>10 Best Foods for You</td>\n",
       "      <td>I like eat delicious food. That's I'm cooking ...</td>\n",
       "      <td>Positive</td>\n",
       "      <td>1.00</td>\n",
       "      <td>0.533333</td>\n",
       "    </tr>\n",
       "    <tr>\n",
       "      <th>1</th>\n",
       "      <td>10 Best Foods for You</td>\n",
       "      <td>This help eating healthy exercise regular basis</td>\n",
       "      <td>Positive</td>\n",
       "      <td>0.25</td>\n",
       "      <td>0.288462</td>\n",
       "    </tr>\n",
       "    <tr>\n",
       "      <th>2</th>\n",
       "      <td>10 Best Foods for You</td>\n",
       "      <td>NaN</td>\n",
       "      <td>NaN</td>\n",
       "      <td>NaN</td>\n",
       "      <td>NaN</td>\n",
       "    </tr>\n",
       "  </tbody>\n",
       "</table>\n",
       "</div>"
      ],
      "text/plain": [
       "                     App                                  Translated_Review  \\\n",
       "0  10 Best Foods for You  I like eat delicious food. That's I'm cooking ...   \n",
       "1  10 Best Foods for You    This help eating healthy exercise regular basis   \n",
       "2  10 Best Foods for You                                                NaN   \n",
       "\n",
       "  Sentiment  Sentiment_Polarity  Sentiment_Subjectivity  \n",
       "0  Positive                1.00                0.533333  \n",
       "1  Positive                0.25                0.288462  \n",
       "2       NaN                 NaN                     NaN  "
      ]
     },
     "execution_count": 6,
     "metadata": {},
     "output_type": "execute_result"
    }
   ],
   "source": [
    "df_reviews = pd.read_csv('datasets/googleplaystore_user_reviews.csv')\n",
    "df_reviews.head(3)"
   ]
  },
  {
   "cell_type": "code",
   "execution_count": 7,
   "id": "dominican-manchester",
   "metadata": {},
   "outputs": [
    {
     "data": {
      "text/plain": [
       "(64295, 5)"
      ]
     },
     "execution_count": 7,
     "metadata": {},
     "output_type": "execute_result"
    }
   ],
   "source": [
    "df_reviews.shape"
   ]
  },
  {
   "cell_type": "code",
   "execution_count": 8,
   "id": "killing-sampling",
   "metadata": {},
   "outputs": [
    {
     "data": {
      "text/plain": [
       "App                           0\n",
       "Translated_Review         26868\n",
       "Sentiment                 26863\n",
       "Sentiment_Polarity        26863\n",
       "Sentiment_Subjectivity    26863\n",
       "dtype: int64"
      ]
     },
     "execution_count": 8,
     "metadata": {},
     "output_type": "execute_result"
    }
   ],
   "source": [
    "df_reviews.isna().sum()"
   ]
  },
  {
   "cell_type": "markdown",
   "id": "ranking-ticket",
   "metadata": {},
   "source": [
    "# Data Cleaning"
   ]
  },
  {
   "cell_type": "markdown",
   "id": "vertical-planet",
   "metadata": {},
   "source": [
    "## Deleting irrelevant data"
   ]
  },
  {
   "cell_type": "code",
   "execution_count": 9,
   "id": "published-thriller",
   "metadata": {},
   "outputs": [
    {
     "data": {
      "text/html": [
       "<div>\n",
       "<style scoped>\n",
       "    .dataframe tbody tr th:only-of-type {\n",
       "        vertical-align: middle;\n",
       "    }\n",
       "\n",
       "    .dataframe tbody tr th {\n",
       "        vertical-align: top;\n",
       "    }\n",
       "\n",
       "    .dataframe thead th {\n",
       "        text-align: right;\n",
       "    }\n",
       "</style>\n",
       "<table border=\"1\" class=\"dataframe\">\n",
       "  <thead>\n",
       "    <tr style=\"text-align: right;\">\n",
       "      <th></th>\n",
       "      <th>App</th>\n",
       "      <th>Category</th>\n",
       "      <th>Rating</th>\n",
       "      <th>Reviews</th>\n",
       "      <th>Size</th>\n",
       "      <th>Installs</th>\n",
       "      <th>Type</th>\n",
       "      <th>Price</th>\n",
       "      <th>Content Rating</th>\n",
       "      <th>Genres</th>\n",
       "      <th>Android Ver</th>\n",
       "    </tr>\n",
       "  </thead>\n",
       "  <tbody>\n",
       "    <tr>\n",
       "      <th>0</th>\n",
       "      <td>Photo Editor &amp; Candy Camera &amp; Grid &amp; ScrapBook</td>\n",
       "      <td>ART_AND_DESIGN</td>\n",
       "      <td>4.1</td>\n",
       "      <td>159</td>\n",
       "      <td>19M</td>\n",
       "      <td>10,000+</td>\n",
       "      <td>Free</td>\n",
       "      <td>0</td>\n",
       "      <td>Everyone</td>\n",
       "      <td>Art &amp; Design</td>\n",
       "      <td>4.0.3 and up</td>\n",
       "    </tr>\n",
       "  </tbody>\n",
       "</table>\n",
       "</div>"
      ],
      "text/plain": [
       "                                              App        Category  Rating  \\\n",
       "0  Photo Editor & Candy Camera & Grid & ScrapBook  ART_AND_DESIGN     4.1   \n",
       "\n",
       "  Reviews Size Installs  Type Price Content Rating        Genres   Android Ver  \n",
       "0     159  19M  10,000+  Free     0       Everyone  Art & Design  4.0.3 and up  "
      ]
     },
     "execution_count": 9,
     "metadata": {},
     "output_type": "execute_result"
    }
   ],
   "source": [
    "df_apps.drop(['Last Updated', 'Current Ver'], axis=1, inplace=True)\n",
    "df_apps.head(1)"
   ]
  },
  {
   "cell_type": "markdown",
   "id": "broken-retail",
   "metadata": {},
   "source": [
    "## Dealing with missing information"
   ]
  },
  {
   "cell_type": "markdown",
   "id": "forward-calibration",
   "metadata": {},
   "source": [
    "### Type"
   ]
  },
  {
   "cell_type": "markdown",
   "id": "educated-philip",
   "metadata": {},
   "source": [
    "* There's only 1 App without 'Type', so we'll be fixing this manually"
   ]
  },
  {
   "cell_type": "code",
   "execution_count": 10,
   "id": "alert-classic",
   "metadata": {},
   "outputs": [
    {
     "data": {
      "text/html": [
       "<div>\n",
       "<style scoped>\n",
       "    .dataframe tbody tr th:only-of-type {\n",
       "        vertical-align: middle;\n",
       "    }\n",
       "\n",
       "    .dataframe tbody tr th {\n",
       "        vertical-align: top;\n",
       "    }\n",
       "\n",
       "    .dataframe thead th {\n",
       "        text-align: right;\n",
       "    }\n",
       "</style>\n",
       "<table border=\"1\" class=\"dataframe\">\n",
       "  <thead>\n",
       "    <tr style=\"text-align: right;\">\n",
       "      <th></th>\n",
       "      <th>App</th>\n",
       "      <th>Category</th>\n",
       "      <th>Rating</th>\n",
       "      <th>Reviews</th>\n",
       "      <th>Size</th>\n",
       "      <th>Installs</th>\n",
       "      <th>Type</th>\n",
       "      <th>Price</th>\n",
       "      <th>Content Rating</th>\n",
       "      <th>Genres</th>\n",
       "      <th>Android Ver</th>\n",
       "    </tr>\n",
       "  </thead>\n",
       "  <tbody>\n",
       "    <tr>\n",
       "      <th>9148</th>\n",
       "      <td>Command &amp; Conquer: Rivals</td>\n",
       "      <td>FAMILY</td>\n",
       "      <td>NaN</td>\n",
       "      <td>0</td>\n",
       "      <td>Varies with device</td>\n",
       "      <td>0</td>\n",
       "      <td>NaN</td>\n",
       "      <td>0</td>\n",
       "      <td>Everyone 10+</td>\n",
       "      <td>Strategy</td>\n",
       "      <td>Varies with device</td>\n",
       "    </tr>\n",
       "  </tbody>\n",
       "</table>\n",
       "</div>"
      ],
      "text/plain": [
       "                            App Category  Rating Reviews                Size  \\\n",
       "9148  Command & Conquer: Rivals   FAMILY     NaN       0  Varies with device   \n",
       "\n",
       "     Installs Type Price Content Rating    Genres         Android Ver  \n",
       "9148        0  NaN     0   Everyone 10+  Strategy  Varies with device  "
      ]
     },
     "execution_count": 10,
     "metadata": {},
     "output_type": "execute_result"
    }
   ],
   "source": [
    "df_apps[df_apps['Type'].isna()]"
   ]
  },
  {
   "cell_type": "code",
   "execution_count": 11,
   "id": "hazardous-healing",
   "metadata": {},
   "outputs": [],
   "source": [
    "# Type according to Google Play Store (23/03/21)\n",
    "type_column = df_apps.columns.get_loc('Type')\n",
    "df_apps.iloc[9148, type_column] = 'Free'"
   ]
  },
  {
   "cell_type": "code",
   "execution_count": 12,
   "id": "transparent-lingerie",
   "metadata": {},
   "outputs": [
    {
     "data": {
      "text/plain": [
       "Free    10040\n",
       "Paid      800\n",
       "0           1\n",
       "Name: Type, dtype: int64"
      ]
     },
     "execution_count": 12,
     "metadata": {},
     "output_type": "execute_result"
    }
   ],
   "source": [
    "df_apps['Type'].value_counts()"
   ]
  },
  {
   "cell_type": "markdown",
   "id": "planned-token",
   "metadata": {},
   "source": [
    "* There's 1 App with 'Type' = 0. Let's take a look at it:"
   ]
  },
  {
   "cell_type": "code",
   "execution_count": 13,
   "id": "illegal-closing",
   "metadata": {},
   "outputs": [
    {
     "data": {
      "text/html": [
       "<div>\n",
       "<style scoped>\n",
       "    .dataframe tbody tr th:only-of-type {\n",
       "        vertical-align: middle;\n",
       "    }\n",
       "\n",
       "    .dataframe tbody tr th {\n",
       "        vertical-align: top;\n",
       "    }\n",
       "\n",
       "    .dataframe thead th {\n",
       "        text-align: right;\n",
       "    }\n",
       "</style>\n",
       "<table border=\"1\" class=\"dataframe\">\n",
       "  <thead>\n",
       "    <tr style=\"text-align: right;\">\n",
       "      <th></th>\n",
       "      <th>App</th>\n",
       "      <th>Category</th>\n",
       "      <th>Rating</th>\n",
       "      <th>Reviews</th>\n",
       "      <th>Size</th>\n",
       "      <th>Installs</th>\n",
       "      <th>Type</th>\n",
       "      <th>Price</th>\n",
       "      <th>Content Rating</th>\n",
       "      <th>Genres</th>\n",
       "      <th>Android Ver</th>\n",
       "    </tr>\n",
       "  </thead>\n",
       "  <tbody>\n",
       "    <tr>\n",
       "      <th>10472</th>\n",
       "      <td>Life Made WI-Fi Touchscreen Photo Frame</td>\n",
       "      <td>1.9</td>\n",
       "      <td>19.0</td>\n",
       "      <td>3.0M</td>\n",
       "      <td>1,000+</td>\n",
       "      <td>Free</td>\n",
       "      <td>0</td>\n",
       "      <td>Everyone</td>\n",
       "      <td>NaN</td>\n",
       "      <td>February 11, 2018</td>\n",
       "      <td>NaN</td>\n",
       "    </tr>\n",
       "  </tbody>\n",
       "</table>\n",
       "</div>"
      ],
      "text/plain": [
       "                                           App Category  Rating Reviews  \\\n",
       "10472  Life Made WI-Fi Touchscreen Photo Frame      1.9    19.0    3.0M   \n",
       "\n",
       "         Size Installs Type     Price Content Rating             Genres  \\\n",
       "10472  1,000+     Free    0  Everyone            NaN  February 11, 2018   \n",
       "\n",
       "      Android Ver  \n",
       "10472         NaN  "
      ]
     },
     "execution_count": 13,
     "metadata": {},
     "output_type": "execute_result"
    }
   ],
   "source": [
    "df_apps[df_apps['Type'] == '0']"
   ]
  },
  {
   "cell_type": "markdown",
   "id": "documentary-profession",
   "metadata": {},
   "source": [
    "* This row values have been misplaced. We'll be fixing it:"
   ]
  },
  {
   "cell_type": "code",
   "execution_count": 14,
   "id": "willing-memorial",
   "metadata": {},
   "outputs": [],
   "source": [
    "df_apps.iloc[10472] = df_apps.iloc[10472].replace(['1.9', 19.0, '3.0M', '1,000+', 'Free', '0', 'Everyone', 'February 11, 2018'], ['LIFESTYLE', 1.9, '19.0', '3.0M', '1,000+', 'Free', '0', 'Lifestyle'])\n",
    "\n",
    "version_column = df_apps.columns.get_loc('Android Ver')\n",
    "df_apps.iloc[10472, version_column] = '4.0 and up'\n",
    "\n",
    "content_rating_column = df_apps.columns.get_loc('Content Rating')\n",
    "df_apps.iloc[10472, content_rating_column] = 'Everyone'"
   ]
  },
  {
   "cell_type": "code",
   "execution_count": 15,
   "id": "specialized-latest",
   "metadata": {},
   "outputs": [
    {
     "data": {
      "text/plain": [
       "Free    10041\n",
       "Paid      800\n",
       "Name: Type, dtype: int64"
      ]
     },
     "execution_count": 15,
     "metadata": {},
     "output_type": "execute_result"
    }
   ],
   "source": [
    "df_apps['Type'].value_counts()"
   ]
  },
  {
   "cell_type": "markdown",
   "id": "modern-characteristic",
   "metadata": {},
   "source": [
    "### Android Ver"
   ]
  },
  {
   "cell_type": "markdown",
   "id": "better-somerset",
   "metadata": {},
   "source": [
    "* There are 2 Apps without 'Android Ver'. We'll be filling them with the most common Android Version"
   ]
  },
  {
   "cell_type": "code",
   "execution_count": 16,
   "id": "satellite-monday",
   "metadata": {},
   "outputs": [],
   "source": [
    "most_common_android = df_apps['Android Ver'].value_counts().idxmax()\n",
    "df_apps['Android Ver'].fillna(most_common_android, inplace=True)"
   ]
  },
  {
   "cell_type": "markdown",
   "id": "treated-whole",
   "metadata": {},
   "source": [
    "### Rating"
   ]
  },
  {
   "cell_type": "markdown",
   "id": "compound-charles",
   "metadata": {},
   "source": [
    "* There are a lot of 'NaN' values in this column. We'll be filling them with the mean of all other ratings."
   ]
  },
  {
   "cell_type": "code",
   "execution_count": 17,
   "id": "indonesian-eleven",
   "metadata": {},
   "outputs": [],
   "source": [
    "ratings_mean = df_apps['Rating'].mean()\n",
    "#df_apps['Rating'].fillna(ratings_mean, inplace=True)\n",
    "df_apps['Rating'].fillna(0, inplace=True)"
   ]
  },
  {
   "cell_type": "code",
   "execution_count": 18,
   "id": "instant-wednesday",
   "metadata": {},
   "outputs": [
    {
     "data": {
      "text/plain": [
       "App               0\n",
       "Category          0\n",
       "Rating            0\n",
       "Reviews           0\n",
       "Size              0\n",
       "Installs          0\n",
       "Type              0\n",
       "Price             0\n",
       "Content Rating    0\n",
       "Genres            0\n",
       "Android Ver       0\n",
       "dtype: int64"
      ]
     },
     "execution_count": 18,
     "metadata": {},
     "output_type": "execute_result"
    }
   ],
   "source": [
    "df_apps.isna().sum()"
   ]
  },
  {
   "cell_type": "markdown",
   "id": "conscious-grove",
   "metadata": {},
   "source": [
    "### Reviews"
   ]
  },
  {
   "cell_type": "markdown",
   "id": "attached-fight",
   "metadata": {},
   "source": [
    "* There are a lot o 'NaN' values in the review dataset. We'll be dropping them."
   ]
  },
  {
   "cell_type": "code",
   "execution_count": 19,
   "id": "collected-bicycle",
   "metadata": {},
   "outputs": [],
   "source": [
    "df_reviews.dropna(inplace=True)"
   ]
  },
  {
   "cell_type": "code",
   "execution_count": 20,
   "id": "olive-grove",
   "metadata": {},
   "outputs": [
    {
     "data": {
      "text/plain": [
       "App                       0\n",
       "Translated_Review         0\n",
       "Sentiment                 0\n",
       "Sentiment_Polarity        0\n",
       "Sentiment_Subjectivity    0\n",
       "dtype: int64"
      ]
     },
     "execution_count": 20,
     "metadata": {},
     "output_type": "execute_result"
    }
   ],
   "source": [
    "df_reviews.isna().sum()"
   ]
  },
  {
   "cell_type": "code",
   "execution_count": 21,
   "id": "current-visibility",
   "metadata": {},
   "outputs": [
    {
     "data": {
      "text/html": [
       "<div>\n",
       "<style scoped>\n",
       "    .dataframe tbody tr th:only-of-type {\n",
       "        vertical-align: middle;\n",
       "    }\n",
       "\n",
       "    .dataframe tbody tr th {\n",
       "        vertical-align: top;\n",
       "    }\n",
       "\n",
       "    .dataframe thead th {\n",
       "        text-align: right;\n",
       "    }\n",
       "</style>\n",
       "<table border=\"1\" class=\"dataframe\">\n",
       "  <thead>\n",
       "    <tr style=\"text-align: right;\">\n",
       "      <th></th>\n",
       "      <th>App</th>\n",
       "      <th>Category</th>\n",
       "      <th>Rating</th>\n",
       "      <th>Reviews</th>\n",
       "      <th>Size</th>\n",
       "      <th>Installs</th>\n",
       "      <th>Type</th>\n",
       "      <th>Price</th>\n",
       "      <th>Content Rating</th>\n",
       "      <th>Genres</th>\n",
       "      <th>Android Ver</th>\n",
       "    </tr>\n",
       "  </thead>\n",
       "  <tbody>\n",
       "    <tr>\n",
       "      <th>0</th>\n",
       "      <td>Photo Editor &amp; Candy Camera &amp; Grid &amp; ScrapBook</td>\n",
       "      <td>ART_AND_DESIGN</td>\n",
       "      <td>4.1</td>\n",
       "      <td>159</td>\n",
       "      <td>19M</td>\n",
       "      <td>10,000+</td>\n",
       "      <td>Free</td>\n",
       "      <td>0</td>\n",
       "      <td>Everyone</td>\n",
       "      <td>Art &amp; Design</td>\n",
       "      <td>4.0.3 and up</td>\n",
       "    </tr>\n",
       "  </tbody>\n",
       "</table>\n",
       "</div>"
      ],
      "text/plain": [
       "                                              App        Category  Rating  \\\n",
       "0  Photo Editor & Candy Camera & Grid & ScrapBook  ART_AND_DESIGN     4.1   \n",
       "\n",
       "  Reviews Size Installs  Type Price Content Rating        Genres   Android Ver  \n",
       "0     159  19M  10,000+  Free     0       Everyone  Art & Design  4.0.3 and up  "
      ]
     },
     "execution_count": 21,
     "metadata": {},
     "output_type": "execute_result"
    }
   ],
   "source": [
    "df_apps.head(1)"
   ]
  },
  {
   "cell_type": "markdown",
   "id": "searching-cabinet",
   "metadata": {},
   "source": [
    "## Changing data types"
   ]
  },
  {
   "cell_type": "markdown",
   "id": "brave-shelf",
   "metadata": {},
   "source": [
    "### Review (to numeric)"
   ]
  },
  {
   "cell_type": "code",
   "execution_count": 22,
   "id": "norwegian-target",
   "metadata": {},
   "outputs": [],
   "source": [
    "df_apps['Reviews'] = pd.to_numeric(df_apps['Reviews'])"
   ]
  },
  {
   "cell_type": "markdown",
   "id": "instrumental-uzbekistan",
   "metadata": {},
   "source": [
    "### Installs (to numeric)"
   ]
  },
  {
   "cell_type": "code",
   "execution_count": 23,
   "id": "italian-sunglasses",
   "metadata": {},
   "outputs": [],
   "source": [
    "df_apps['Installs'] = df_apps['Installs'].apply(lambda x: float(x[:-1].replace(',', '')) if x[-1] == '+' else float(x))"
   ]
  },
  {
   "cell_type": "markdown",
   "id": "olive-mercy",
   "metadata": {},
   "source": [
    "### Size (to numeric - in kilobytes)"
   ]
  },
  {
   "cell_type": "code",
   "execution_count": 24,
   "id": "moving-beauty",
   "metadata": {},
   "outputs": [],
   "source": [
    "# Converts the App Size to kilobytes (Size will be 0 if 'Varies with Device')\n",
    "df_apps['Size'] = df_apps['Size'].apply(lambda x: float(x[:-1])*1024 if x[-1] == 'M' else(float(x[:-1]) if x[-1] == 'k' else 0))"
   ]
  },
  {
   "cell_type": "markdown",
   "id": "sized-sentence",
   "metadata": {},
   "source": [
    "### Price (to numeric - in dollars)"
   ]
  },
  {
   "cell_type": "code",
   "execution_count": 25,
   "id": "lonely-posting",
   "metadata": {},
   "outputs": [],
   "source": [
    "df_apps['Price'] = df_apps['Price'].apply(lambda x: float(x[1:]) if x[0] == '$' else float(x))"
   ]
  },
  {
   "cell_type": "markdown",
   "id": "olympic-killer",
   "metadata": {},
   "source": [
    "### Android Version (remove part of the text )"
   ]
  },
  {
   "cell_type": "code",
   "execution_count": 26,
   "id": "democratic-elephant",
   "metadata": {},
   "outputs": [],
   "source": [
    "df_apps['Android Ver'] = df_apps['Android Ver'].apply(lambda x: x.split(' ')[0])"
   ]
  },
  {
   "cell_type": "markdown",
   "id": "built-fever",
   "metadata": {},
   "source": [
    "# Visualization"
   ]
  },
  {
   "cell_type": "code",
   "execution_count": 27,
   "id": "descending-mother",
   "metadata": {},
   "outputs": [
    {
     "name": "stdout",
     "output_type": "stream",
     "text": [
      "10841 Android Apps\n"
     ]
    }
   ],
   "source": [
    "print(f'{df_apps.shape[0]} Android Apps')"
   ]
  },
  {
   "cell_type": "markdown",
   "id": "corporate-logic",
   "metadata": {},
   "source": [
    "### Top Google Play App Categories"
   ]
  },
  {
   "cell_type": "markdown",
   "id": "human-chosen",
   "metadata": {},
   "source": [
    "* What are the most popular app categories on Google Play Store?"
   ]
  },
  {
   "cell_type": "code",
   "execution_count": 28,
   "id": "exempt-continent",
   "metadata": {},
   "outputs": [
    {
     "name": "stdout",
     "output_type": "stream",
     "text": [
      "There are 33 different App Categories\n"
     ]
    }
   ],
   "source": [
    "print(f\"There are {df_apps['Category'].unique().shape[0]} different App Categories\")"
   ]
  },
  {
   "cell_type": "code",
   "execution_count": 29,
   "id": "southeast-pharmacology",
   "metadata": {},
   "outputs": [],
   "source": [
    "top_android_apps = df_apps['Category'].value_counts().head(15)\n",
    "labels = top_android_apps.index.tolist()\n",
    "labels.append('OTHER')\n",
    "values = top_android_apps.values.tolist()\n",
    "values.append(df_apps.shape[0] - top_android_apps.sum())"
   ]
  },
  {
   "cell_type": "code",
   "execution_count": 30,
   "id": "architectural-bulgarian",
   "metadata": {},
   "outputs": [
    {
     "data": {
      "image/png": "[encoded data removed]",
      "text/plain": [
       "<Figure size 720x576 with 1 Axes>"
      ]
     },
     "metadata": {},
     "output_type": "display_data"
    }
   ],
   "source": [
    "fig, ax = plt.subplots(figsize=(10,8))\n",
    "wedges, text, autotexts = ax.pie(values, startangle=90, autopct='%1.1f%%')\n",
    "\n",
    "ax.legend(wedges, labels,\n",
    "          title='Categories',\n",
    "          loc='center left',\n",
    "          bbox_to_anchor=(1, 0, 0.5, 1))\n",
    "\n",
    "plt.setp(autotexts, size=12, weight='bold')\n",
    "ax.set_title(\"Top Android App Categories\", fontsize=18)\n",
    "plt.show()"
   ]
  },
  {
   "cell_type": "code",
   "execution_count": 31,
   "id": "embedded-daniel",
   "metadata": {},
   "outputs": [],
   "source": [
    "top_android_apps = df_apps['Category'].value_counts()\n",
    "labels = top_android_apps.index.tolist()\n",
    "values = top_android_apps.values.tolist()\n",
    "\n",
    "cmap = matplotlib.cm.Greens\n",
    "mini = min(df_apps['Category'].value_counts())\n",
    "maxi = max(df_apps['Category'].value_counts())\n",
    "norm = matplotlib.colors.Normalize(vmin=mini, vmax=maxi)\n",
    "colors = [cmap(norm(i)) for i in df_apps['Category'].value_counts()]"
   ]
  },
  {
   "cell_type": "code",
   "execution_count": 32,
   "id": "formal-guard",
   "metadata": {},
   "outputs": [
    {
     "data": {
      "image/png": "[encoded data removed]",
      "text/plain": [
       "<Figure size 720x360 with 1 Axes>"
      ]
     },
     "metadata": {},
     "output_type": "display_data"
    }
   ],
   "source": [
    "fig, ax = plt.subplots(figsize=(10, 5))\n",
    "squarify.plot(values, label=labels[:10], color=colors, alpha=0.7, text_kwargs={'fontsize': 10, 'weight': 'bold'})\n",
    "ax.axis('off')\n",
    "ax.set_title(\"Top Android App Categories\", fontsize=18)\n",
    "plt.show()"
   ]
  },
  {
   "cell_type": "markdown",
   "id": "visible-organizer",
   "metadata": {},
   "source": [
    "* <strong>Family</strong>, <strong>Game</strong> and <strong>Tools</strong> are the top app categories"
   ]
  },
  {
   "cell_type": "markdown",
   "id": "acknowledged-coalition",
   "metadata": {},
   "source": [
    "* The <strong>other</strong> 30 categories represent <strong>63.5%</strong> of the applications. But <strong>each category</strong> is responsible for <strong>less than 5%</strong> of the applications."
   ]
  },
  {
   "cell_type": "markdown",
   "id": "textile-tiger",
   "metadata": {},
   "source": [
    "### Rating Distribution"
   ]
  },
  {
   "cell_type": "code",
   "execution_count": null,
   "id": "emotional-canyon",
   "metadata": {},
   "outputs": [],
   "source": []
  },
  {
   "cell_type": "markdown",
   "id": "verbal-hotel",
   "metadata": {},
   "source": [
    "### Rating Distribution across the top 3 categories"
   ]
  },
  {
   "cell_type": "code",
   "execution_count": null,
   "id": "likely-checklist",
   "metadata": {},
   "outputs": [],
   "source": []
  }
 ],
 "metadata": {
  "kernelspec": {
   "display_name": "Python 3",
   "language": "python",
   "name": "python3"
  },
  "language_info": {
   "codemirror_mode": {
    "name": "ipython",
    "version": 3
   },
   "file_extension": ".py",
   "mimetype": "text/x-python",
   "name": "python",
   "nbconvert_exporter": "python",
   "pygments_lexer": "ipython3",
   "version": "3.8.8"
  }
 },
 "nbformat": 4,
 "nbformat_minor": 5
}
